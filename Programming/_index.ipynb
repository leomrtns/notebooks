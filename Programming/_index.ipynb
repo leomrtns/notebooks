{
 "cells": [
  {
   "cell_type": "markdown",
   "metadata": {},
   "source": [
    "# Programming"
   ]
  },
  {
   "cell_type": "markdown",
   "metadata": {},
   "source": [
    "[**001 K-mer in biomcmc-lib (2019.11.29)**](Programming/001.kmer.html)<br>\n",
    "&nbsp; &nbsp;This notebook contains a few details of how kmers are implemented in the low-level phylogenetic library [biomcmc-lib](https://github.com/quadram-institute-bioscience/biomcmc-lib)."
   ]
  },
  {
   "cell_type": "markdown",
   "metadata": {},
   "source": [
    "[**002 Quantile functions implemented in biomcmc-lib**](Programming/002.quantile.html)<br>\n",
    "&nbsp; &nbsp;There are (as of 2019.11.29) two functions implementing the quantile finding in `biomcmc-lib`: the [quickselect](https://en.wikipedia.org/wiki/Quickselect) and the [Wirth algorithm](http://ndevilla.free.fr/median/median/)."
   ]
  },
  {
   "cell_type": "markdown",
   "metadata": {},
   "source": [
    "[**003 Minimal example of a rolling hash**](Programming/003.rollinghash.html)<br>\n",
    "&nbsp; &nbsp;This notebook uses the low-level phylogenetic library [biomcmc-lib](https://github.com/quadram-institute-bioscience/biomcmc-lib) (commit [5975331](https://github.com/quadram-institute-bioscience/biomcmc-lib/commit/5975331ef88d1c4ec9aef9599fb6348905d289c7))."
   ]
  }
 ],
 "metadata": {
  "kernelspec": {
   "display_name": "Python 3",
   "language": "python",
   "name": "python3"
  },
  "language_info": {
   "codemirror_mode": {
    "name": "ipython",
    "version": 3
   },
   "file_extension": ".py",
   "mimetype": "text/x-python",
   "name": "python",
   "nbconvert_exporter": "python",
   "pygments_lexer": "ipython3",
   "version": "3.6.0"
  }
 },
 "nbformat": 4,
 "nbformat_minor": 2
}