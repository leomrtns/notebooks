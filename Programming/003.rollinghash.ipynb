{
 "cells": [
  {
   "cell_type": "markdown",
   "metadata": {},
   "source": [
    "# 003 Minimal example of a rolling hash\n",
    "\n",
    "This notebook uses the low-level phylogenetic library [biomcmc-lib](https://github.com/quadram-institute-bioscience/biomcmc-lib) (commit [5975331](https://github.com/quadram-institute-bioscience/biomcmc-lib/commit/5975331ef88d1c4ec9aef9599fb6348905d289c7)).\n",
    "\n",
    "The rolling hash (or expoential hash) is a technique to slide through a sequence while updating its hash value using only information from the current hash and the next value. One of the most popular algorithms is the Rabin-Karp algorithm. Below I start with the imnplementation in [linclust/MMseqs2](http://dx.doi.org/10.1038/s41467-018-04964-5)\n",
    "\n",
    "In DNA context, each base is represented by a random number. In MMseqs they work with a reduced amino acid alphabet of 13 groups  \n",
    "\n",
    "## Prototype\n",
    "\n",
    "Here I describe a prototype (future capability of the library), not implemented yet. I am testing the rolling hash function but also shorter types `uint8_t` etc. "
   ]
  },
  {
   "cell_type": "code",
   "execution_count": 62,
   "metadata": {},
   "outputs": [
    {
     "name": "stdout",
     "output_type": "stream",
     "text": [
      "  0 >>  1 2 3  \t    23891  \t >>  1 2 3  \t    64755\n",
      "  1 >>  2 3 1  \t    35238  \t >>  2 3 4  \t    42449\n",
      "  2 >>  3 1 2  \t    11433  \t >>  3 4 5  \t    46207\n",
      "  3 >>  1 2 3  \t    23891  \t >>  4 5 2  \t    42985\n",
      "  4 >>  2 3 1  \t    35238  \t >>  5 2 3  \t    48371\n",
      "  5 >>  3 1 2  \t    11433  \t >>  2 3 4  \t    42449\n",
      "  6 >>  1 2 3  \t    23891  \t >>  3 4 5  \t    46207\n",
      "  7 >>  2 3 1  \t    35238  \t >>  4 5 2  \t    42985\n",
      "  8 >>  3 1 1  \t    38662  \t >>  5 2 3  \t    48371\n",
      "  9 >>  1 1 1  \t    17158  \t >>  2 3 4  \t    42449\n",
      " 10 >>  1 1 1  \t    17158  \t >>  3 4 5  \t    46207\n",
      " 11 >>  1 1 1  \t    17158  \t >>  4 5 1  \t     7238\n",
      " 12 >>  1 1 1  \t    17158  \t >>  5 1 1  \t      198\n",
      " 13 >>  1 1 1  \t    17158  \t >>  1 1 4  \t    48977\n",
      " 14 >>  1 1 2  \t    63657  \t >>  1 4 5  \t    62591\n",
      " 15 >>  1 2 1  \t    14054  \t >>  4 5 2  \t    42985\n",
      " 16 >>  2 1 2  \t    17577  \t >>  5 2 5  \t    43135\n",
      " 17 >>  1 2 3  \t    23891  \t >>  2 5 2  \t    42985\n",
      " 18 >>  2 3 1  \t    35238  \t >>  5 2 3  \t    48371\n",
      " 19 >>  3 1 2  \t    11433  \t >>  2 3 4  \t    42449\n",
      " 20 >>  1 2 1  \t    14054  \t >>  3 4 3  \t    41203\n",
      " 21 >>  2 1 2  \t    17577  \t >>  4 3 2  \t    57833\n",
      " 22 >>  1 2 1  \t    14054  \t >>  3 2 3  \t    48371\n",
      " 23 >>  2 1 2  \t    17577  \t >>  2 3 2  \t    57833\n",
      " 24 >>  1 2 1  \t    14054  \t >>  3 2 3  \t    48371\n"
     ]
    }
   ],
   "source": [
    "//%cflags:-lm\n",
    "//%cflags: -I/usr/users/QIB_fr005/deolivl/Academic/Quadram/009.supersptree/biomcmc-lib/lib\n",
    "//%cflags: -I/usr/users/QIB_fr005/deolivl/Academic/Quadram/009.supersptree/build/biomcmc-lib/lib\n",
    "//%cflags: /usr/users/QIB_fr005/deolivl/Academic/Quadram/009.supersptree/build/biomcmc-lib/lib/.libs/libbiomcmc.a\n",
    "#include <biomcmc.h>\n",
    "\n",
    "const char dna[] = \n",
    "    \"AAACCACCTCCTCAATATATCCTAGATGTCATCATCTAAATACTCTAAATGAGATAACAG \\\n",
    "    GTTCTTAACATTCTCATAGGTTTCTCGTACAGCCACTCGTTTACCATCACTGGTGAAGAT \\\n",
    "    ACAGGTATTACCTTCGTCAACTGTAATGAATGTAATGTTATTGATATTAAACTCCACTGG \\\n",
    "    GTTATATAATGGTTGACTGTTTTGTTGATAACATATAGCCCCCTGTATTAGAGGGCTAGG \\\n",
    "    TTCATTGTTCTGTGTGGGGTTAGTCTCTTCTACATCAGCAGAGGTCTCTTCCTCGTATGC \\\n",
    "    TTCATACGGTACGTGTTCAGTAACAACAATCAAATTAGGAAACACTACAAGTTGTTCATC\";\n",
    "uint16_t RAND[21] = {0x4567, 0x23c6, 0x9869, 0x4873, 0xdc51, 0x5cff, 0x944a, 0x58ec,\n",
    "                           0x1f29, 0x7ccd, 0x58ba, 0xd7ab, 0x41f2, 0x1efb, 0xa9e3, 0xe146,\n",
    "                           0x007c, 0x62c2, 0x0854, 0x27f8, 0x231b};// 16 bit random numbers\n",
    "\n",
    "#define RoL(val, numbits) (val << numbits) ^ (val >> (32 - numbits))\n",
    "\n",
    "// Transform each letter x[i] to a fixed random number RAND[x[i]] to ensure instantaneous mixing into the 16 bits\n",
    "// Do XOR with RAND[x[i]] and 5-bit rotate left for each i from 1 to k\n",
    "uint32_t circ_hash (const uint8_t * x, uint8_t length, const uint8_t rol){\n",
    "    uint16_t h = 0x0;\n",
    "    h = h ^ RAND[x[0]];                  // XOR h and ki\n",
    "    for (uint8_t i = 1; i < length; ++i){\n",
    "        h = RoL(h, rol);\n",
    "        h ^= RAND[x[i]];                   // XOR h and ki\n",
    "    }\n",
    "    return h;\n",
    "}\n",
    "\n",
    "// Rolling hash for CRC hash variant: Computes hash value for next key x[0:length-1] from previous value\n",
    "// hash( x[-1:length-2] ) and x_first = x[-1]\n",
    "uint32_t circ_hash_next (const uint8_t * x, uint8_t length, uint8_t x_first, uint16_t h, const uint8_t rol){\n",
    "    // undo INITIAL_VALUE and first letter x[0] of old key\n",
    "    h ^= RoL(RAND[x_first], (5*(length-1)) % 16);// circularly permute all letters x[1:length-1] to 5 positions to left\n",
    "    // h ^= RoL(RAND[x_first], (5*(length-1)) & 15); // since x%y = x & (y-1)\n",
    "    h =  RoL(h, rol);// add new, last letter of new key x[1:length]\n",
    "    h ^= RAND[x[length-1]];\n",
    "    return h;\n",
    "}\n",
    "\n",
    "int main (){\n",
    "    uint8_t i, j;\n",
    "    uint8_t my_seq1[] = {1,2,3,1,2, 3,1,2,3,1, 1,1,1,1,1, 1,2,1,2,3, 1,2,1,2,1, 2,1,2}; // n=28\n",
    "    uint8_t my_seq2[] = {1,2,3,4,5, 2,3,4,5,2, 3,4,5,1,1, 4,5,2,5,2, 3,4,3,2,3, 2,3,2}; \n",
    "    uint16_t my_h1 = circ_hash((const uint8_t*) my_seq1, 3, 5);\n",
    "    uint16_t my_h2 = circ_hash((const uint8_t *) my_seq2, 3, 7);\n",
    "    for (j = 0; j < 25; j++) {\n",
    "        printf (\"%3d >>  \", j);\n",
    "        for (i=j;i<j+3;i++) printf (\"%d \", my_seq1[i]); \n",
    "        printf (\" \\t %8u  \\t >>  \",my_h1); // show current kmer and hash\n",
    "        for (i=j;i<j+3;i++) printf (\"%d \", my_seq2[i]); \n",
    "        printf (\" \\t %8u\\n\",my_h2); // show current kmer and hash\n",
    "        my_h1 = circ_hash_next ((const uint8_t *) my_seq1 + j + 1, 3, my_seq1[j], my_h1, 5);\n",
    "        my_h2 = circ_hash_next ((const uint8_t *) my_seq2 + j + 1, 3, my_seq2[j], my_h2, 7);\n",
    "    }\n",
    "}"
   ]
  },
  {
   "cell_type": "markdown",
   "metadata": {},
   "source": [
    "## conclusions\n",
    "\n",
    "For some reason, the hash can't work with 32 bits, it has to be 16 bits. Which, as we can see, is very prone to collisions. Therefore a potential solution is to create two rolling hashes and then merge tehm into 32 bits. "
   ]
  }
 ],
 "metadata": {
  "kernelspec": {
   "display_name": "C",
   "language": "c",
   "name": "c"
  },
  "language_info": {
   "file_extension": ".c",
   "mimetype": "text/plain",
   "name": "c"
  }
 },
 "nbformat": 4,
 "nbformat_minor": 2
}
