{
 "cells": [
  {
   "cell_type": "markdown",
   "metadata": {},
   "source": [
    "# 000 Programming Notes\n",
    "\n",
    "Here you'll find notes about implementation details of programs, common tricks I use, or just neat algorithms. Since the notebooks are dynamically generated, please keep in mind that some of them might be incomplete (with the famous `TODO` or `FIXME` statements) by the time I push them to github...\n",
    "\n",
    "## biomcmc-lib and derived\n",
    "\n",
    "Notebooks describing functions or structures implemented in `biomcmc-lib` or software relying on it. \n",
    "\n",
    "* [001 Kmers as implemented in the biomcmc library](Programming/001.kmer.html)\n",
    "* [002 Quick quantile in biomcmc](Programming/002.quantile.html)\n",
    "\n",
    "## debug and pilot experiments \n",
    "\n",
    "The notebooks below describe a more experimental approach, as in code snippets and pilot functionalities before they appear in production code. \n",
    "\n",
    "* [003 Minimal rolling hashes example](Programming/003.rollinghash.html)\n",
    "* [004 multiple sequence alignment](Programming/004.kalign3.html)"
   ]
  },
  {
   "cell_type": "code",
   "execution_count": null,
   "metadata": {},
   "outputs": [],
   "source": []
  }
 ],
 "metadata": {
  "kernelspec": {
   "display_name": "R",
   "language": "R",
   "name": "ir"
  },
  "language_info": {
   "codemirror_mode": "r",
   "file_extension": ".r",
   "mimetype": "text/x-r-source",
   "name": "R",
   "pygments_lexer": "r",
   "version": "3.6.1"
  }
 },
 "nbformat": 4,
 "nbformat_minor": 2
}
