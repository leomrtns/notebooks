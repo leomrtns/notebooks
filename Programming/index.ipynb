{
 "cells": [
  {
   "cell_type": "markdown",
   "metadata": {},
   "source": [
    "# 000 Programming Notes\n",
    "\n",
    "Here you'll find notes about implementation details of programs, common tricks I use, or just neat algorithms.\n",
    "\n",
    "* [001 Kmers as implemented in the biomcmc library](Programming/001.kmer.html)\n",
    "* [002 Quick quantile in biomcmc](Programming/002.quantile.html)",
    "* [003 Minimal rolling hashes example](Programming/003.rollinghash.html)"
   ]
  },
  {
   "cell_type": "code",
   "execution_count": null,
   "metadata": {},
   "outputs": [],
   "source": []
  }
 ],
 "metadata": {
  "kernelspec": {
   "display_name": "R",
   "language": "R",
   "name": "ir"
  },
  "language_info": {
   "codemirror_mode": "r",
   "file_extension": ".r",
   "mimetype": "text/x-r-source",
   "name": "R",
   "pygments_lexer": "r",
   "version": "3.6.1"
  }
 },
 "nbformat": 4,
 "nbformat_minor": 2
}
