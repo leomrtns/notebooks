{
 "cells": [
  {
   "cell_type": "markdown",
   "metadata": {},
   "source": [
    "# Bioinformatics notebooks\n",
    "<img src=\"figures/logo_araiguma.jpg\" align=\"right\" width=\"300\">\n",
    "\n",
    "Notes on Evolutionary Computational Biology and Bioinformatcs. By [Leonardo de Oliveira Martins](https://leomrtns.github.io)."
   ]
  },
  {
   "cell_type": "markdown",
   "metadata": {},
   "source": [
    "## Documentation\n",
    "\n",
    "The notebooks are divided into topics, although there is some overlap between them. \n",
    "\n",
    "### Topics\n",
    "\n",
    "1. [Programming notes](Programming.html) are focused on the algorithmic implementation of bioinformatics (and also phylogenetics) methods.\n",
    "\n",
    "2. [Phylogenetic notes](Phylogenetics.html) will focus on the evolutionary problems, from a biological perspective."
   ]
  },
  {
   "cell_type": "markdown",
   "metadata": {},
   "source": [
    "## About the notebooks\n",
    "These pages were created from [Jupyter noteboooks](https://jupyter.org/) using `R`, `python`, `bash`, and `C` kernels. Currently most notebooks started as sandbox for playing with experimental code, before incorporating them into production-level software. "
   ]
  }
 ],
 "metadata": {
  "kernelspec": {
   "display_name": "R",
   "language": "R",
   "name": "ir"
  },
  "language_info": {
   "codemirror_mode": "r",
   "file_extension": ".r",
   "mimetype": "text/x-r-source",
   "name": "R",
   "pygments_lexer": "r",
   "version": "3.6.1"
  }
 },
 "nbformat": 4,
 "nbformat_minor": 2
}
