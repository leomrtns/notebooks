{
 "cells": [
  {
   "cell_type": "markdown",
   "metadata": {},
   "source": [
    "# 002 Quantile functions implemented in biomcmc-lib\n",
    "\n",
    "There are (as of 2019.11.29) two functions implementing the quantile finding in `biomcmc-lib`: the [quickselect](https://en.wikipedia.org/wiki/Quickselect) and the [Wirth algorithm](http://ndevilla.free.fr/median/median/). \n",
    "By \"quantile finding\" I mean returning the k-smallest element from a vector (e.g. the median).\n",
    "Both algorithms work by modifying the original vector, but in some cases `biomcmc-lib` works on a copy of it:\n",
    "\n",
    "```c\n",
    "// quickselect, copies the vector (quantile specified as fraction over n)\n",
    "double biomcmc_quantile_double (double *original_vector, int n, double quantile);\n",
    "\n",
    "// Wirth algorithm, modifies the vector (quantile specified as an integer k < n )\n",
    "double biomcmc_wirth_algorithm (double *a, int n, int k); \n",
    "\n",
    "// copies the vector and returns several quantile values at once using the Wirth algorithm\n",
    "void   biomcmc_quantile_vector_double (double *original_vector, int n, double *quantile, int n_quantile, double *result);\n",
    "```\n",
    "\n",
    "The algorithms do not interpolate, as in some median-finding algorithms &mdash; it finds the k-smallest element, therefore if there is a tie it chooses the ... smallest!"
   ]
  },
  {
   "cell_type": "code",
   "execution_count": 12,
   "metadata": {},
   "outputs": [
    {
     "name": "stdout",
     "output_type": "stream",
     "text": [
      "before:\n",
      "1.10 6.60 3.30 8.80 7.70 4.40 4.30 9.10 5.50 9.90 \n",
      "after finding 3.30 (Wirth):\n",
      "1.10 3.30 4.30 4.40 5.50 7.70 "
     ]
    }
   ],
   "source": [
    "//%cflags:-lm\n",
    "//%cflags: -I/usr/users/QIB_fr005/deolivl/Academic/Quadram/009.supersptree/biomcmc-lib/lib\n",
    "//%cflags: -I/usr/users/QIB_fr005/deolivl/Academic/Quadram/009.supersptree/build/biomcmc-lib/lib\n",
    "//%cflags: /usr/users/QIB_fr005/deolivl/Academic/Quadram/009.supersptree/build/biomcmc-lib/lib/.libs/libbiomcmc.a\n",
    "#include <biomcmc.h>\n",
    "\n",
    "int main (){\n",
    "    double this, unsorted[] = {1.1, 6.6, 3.3, 8.8, 7.7, 4.4, 4.3, 9.1, 5.5, 9.9};\n",
    "    int i;\n",
    "    printf (\"before:\\n\");\n",
    "    for (i=0; i < 10; i++) printf (\"%3.2lf \", unsorted[i]);\n",
    "    this = biomcmc_wirth_algorithm (unsorted, 10, 1);\n",
    "    printf (\"\\nafter finding %3.2lf (Wirth):\\n\", this);\n",
    "    for (i=0; i < 10; i++) printf (\"%3.2lf \", unsorted[i]);\n",
    "    this = biomcmc_quantile_double (unsorted, 10, 0.2);\n",
    "    printf (\"\\nafter finding %3.2lf (quickselect):\\n\", this);\n",
    "    for (i=0; i < 10; i++) printf (\"%3.2lf \", unsorted[i]);\n",
    "    printf (\"\\n\");\n",
    "}"
   ]
  },
  {
   "cell_type": "markdown",
   "metadata": {},
   "source": [
    "biomcmc-lib commit: [5975331](https://github.com/quadram-institute-bioscience/biomcmc-lib/commit/5975331ef88d1c4ec9aef9599fb6348905d289c7)"
   ]
  },
  {
   "cell_type": "code",
   "execution_count": null,
   "metadata": {},
   "outputs": [],
   "source": []
  }
 ],
 "metadata": {
  "kernelspec": {
   "display_name": "C",
   "language": "c",
   "name": "c"
  },
  "language_info": {
   "file_extension": ".c",
   "mimetype": "text/plain",
   "name": "c"
  }
 },
 "nbformat": 4,
 "nbformat_minor": 2
}
