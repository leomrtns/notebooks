{
 "cells": [
  {
   "cell_type": "markdown",
   "metadata": {},
   "source": [
    "# Phylogenetics Notes\n",
    "\n",
    "Here I'll collect notes about phylogenetic and phylogenomic problems. I'll update the pages from time to time. \n",
    "\n",
    "## Software collections\n",
    "\n",
    "Notebooks describing lists of published or unpublished software, for specific tasks. \n",
    "\n",
    "* [001 phylogenomics pipelines](Phylogenetics/001.pipelines.html)"
   ]
  },
  {
   "cell_type": "code",
   "execution_count": null,
   "metadata": {},
   "outputs": [],
   "source": []
  }
 ],
 "metadata": {
  "kernelspec": {
   "display_name": "R",
   "language": "R",
   "name": "ir"
  },
  "language_info": {
   "codemirror_mode": "r",
   "file_extension": ".r",
   "mimetype": "text/x-r-source",
   "name": "R",
   "pygments_lexer": "r",
   "version": "3.6.2"
  }
 },
 "nbformat": 4,
 "nbformat_minor": 2
}
