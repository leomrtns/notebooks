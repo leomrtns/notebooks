{
 "cells": [
  {
   "cell_type": "markdown",
   "metadata": {},
   "source": [
    "# List of phylogenomics pipelines\n",
    "\n",
    "This is still a draft. I'm collecting recent tools that try to automatise gene sequence selection, alignment, and tree inference. \n",
    "\n",
    "* https://github.com/AstrobioMike/GToTree\n",
    "* https://github.com/ropensci/phylotaR \n",
    "* https://github.com/MaoYafei/TREEasy \n",
    "* https://github.com/WatsonLab/MAGpy \n",
    "* https://github.com/dongzhang0725/PhyloSuite \n",
    "* https://lmap-s.sourceforge.io/ \n",
    "* https://github.com/carolinafishes/TOAST\n",
    "* https://github.com/dportik/SuperCRUNCH \n",
    "\n",
    "please feel free to let me know of any software you think might belong here. "
   ]
  },
  {
   "cell_type": "code",
   "execution_count": null,
   "metadata": {},
   "outputs": [],
   "source": []
  }
 ],
 "metadata": {
  "kernelspec": {
   "display_name": "R",
   "language": "R",
   "name": "ir"
  },
  "language_info": {
   "codemirror_mode": "r",
   "file_extension": ".r",
   "mimetype": "text/x-r-source",
   "name": "R",
   "pygments_lexer": "r",
   "version": "3.6.2"
  }
 },
 "nbformat": 4,
 "nbformat_minor": 4
}
