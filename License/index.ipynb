{
 "cells": [
  {
   "cell_type": "markdown",
   "metadata": {},
   "source": [
    "# License\n",
    "\n",
    "Copyright (C) 2019-today Leonardo de Oliveira Martins\n",
    "\n",
    "The code snippets described here is free software. You can redistribute it and/or modify it under the terms of the GNU General Public License as published by the Free Software Foundation (http://www.gnu.org/copyleft/gpl.html). Most algorithms have been implemented [in some project of mine](https://github.com/leomrtns).\n",
    "\n",
    "\n",
    "### Website layout\n",
    "This Jupyter notebook website was developed by [Peter Carbonetto](http://pcarbo.github.io) and [Gao Wang](https://github.com/gaow) at the [University of Chicago](https://www.uchicago.edu).\n",
    "[This template](https://stephenslab.github.io/ipynb-website) is made available under a [separate license agreement (MIT license)](https://github.com/stephenslab/ipynb-website#credits)."
   ]
  }
 ],
 "metadata": {
  "kernelspec": {
   "display_name": "R",
   "language": "R",
   "name": "ir"
  },
  "language_info": {
   "codemirror_mode": "r",
   "file_extension": ".r",
   "mimetype": "text/x-r-source",
   "name": "R",
   "pygments_lexer": "r",
   "version": "3.6.1"
  }
 },
 "nbformat": 4,
 "nbformat_minor": 2
}
